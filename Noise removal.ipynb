{
 "cells": [
  {
   "cell_type": "code",
   "execution_count": 1,
   "metadata": {},
   "outputs": [],
   "source": [
    "import cv2\n",
    "import numpy as np\n",
    "from skimage import io, img_as_float\n",
    "from skimage.filters import gaussian,median\n",
    "from matplotlib import pyplot as plt\n",
    "from skimage.morphology import disk"
   ]
  },
  {
   "cell_type": "code",
   "execution_count": 2,
   "metadata": {},
   "outputs": [],
   "source": [
    "gauss_img = img_as_float(io.imread(\"GAUSS.JPG\", as_gray=True))\n",
    "saltpepper_img = cv2.imread(\"S&P.JPG\", 0)\n",
    "original=img_as_float(io.imread(\"original.JPG\", as_gray=True))\n",
    "img1=gauss_img\n",
    "img2=saltpepper_img"
   ]
  },
  {
   "cell_type": "markdown",
   "metadata": {},
   "source": [
    "### KERNELS FOR GAUSSIAN NOISE REMOVAL"
   ]
  },
  {
   "cell_type": "code",
   "execution_count": 3,
   "metadata": {},
   "outputs": [],
   "source": [
    "gaussian_kernel = np.array([[1/16, 1/8, 1/16],\n",
    "                           [1/8, 1/4, 1/8],\n",
    "                           [1/16, 1/8, 1/16]])\n",
    "conv_using_cv2 = cv2.filter2D(img1, -1, gaussian_kernel, borderType = cv2.BORDER_CONSTANT)\n",
    "gaussian_using_cv2 = cv2.GaussianBlur(img1, (3,3), -1, borderType = cv2.BORDER_CONSTANT)\n",
    "gaussian_using_skimage = gaussian(img1, sigma=1, mode='constant', cval=0.0)"
   ]
  },
  {
   "cell_type": "code",
   "execution_count": 4,
   "metadata": {},
   "outputs": [],
   "source": [
    "cv2.imshow('gaussian_using_cv2.jpg', gaussian_using_cv2)\n",
    "cv2.imshow('S&P_using_gaussianfilter.jpg', gaussian_using_skimage)\n",
    "cv2.imshow('GAUSS.jpg', img1)\n",
    "cv2.imshow('CV2_filter.jpg', conv_using_cv2)\n",
    "cv2.imshow('original.jpg', original)\n",
    "\n",
    "cv2.waitKey(0)\n",
    "cv2.destroyAllWindows()"
   ]
  },
  {
   "cell_type": "markdown",
   "metadata": {},
   "source": [
    "### KERNELS FOR SALT & PEPPER NOISE REMOVAL"
   ]
  },
  {
   "cell_type": "code",
   "execution_count": 5,
   "metadata": {},
   "outputs": [],
   "source": [
    "median_using_cv2 = cv2.medianBlur(img2, 3)\n",
    "median_using_skimage = median(img1, disk(3), mode='constant', cval=0.0)"
   ]
  },
  {
   "cell_type": "code",
   "execution_count": 6,
   "metadata": {},
   "outputs": [],
   "source": [
    "cv2.imshow('median_using_cv2.jpg', median_using_cv2)\n",
    "cv2.imshow('median_using_skimage.jpg', median_using_skimage)\n",
    "cv2.imshow('S&P.jpg', img2)\n",
    "cv2.waitKey(0)\n",
    "cv2.destroyAllWindows()"
   ]
  },
  {
   "cell_type": "markdown",
   "metadata": {},
   "source": [
    "### KERNEL FOR SHARPENING AN IMAGE"
   ]
  },
  {
   "cell_type": "code",
   "execution_count": 7,
   "metadata": {},
   "outputs": [],
   "source": [
    "kernel = np.array([[0,-1,0], \n",
    "                   [-1,5,-1], \n",
    "                   [0,-1,0]])\n",
    "sharpened_image = cv2.filter2D(median_using_cv2, -1, kernel)  # SHARPENING THE DENOISED IMAGE, TO GET IT CLOSER TO THE ORIGINAL"
   ]
  },
  {
   "cell_type": "code",
   "execution_count": 8,
   "metadata": {},
   "outputs": [],
   "source": [
    "cv2.imshow('sharpened_image.jpg', sharpened_image)\n",
    "cv2.imshow('original.jpg', original)\n",
    "cv2.waitKey(0)\n",
    "cv2.destroyAllWindows()"
   ]
  },
  {
   "cell_type": "code",
   "execution_count": null,
   "metadata": {},
   "outputs": [],
   "source": []
  }
 ],
 "metadata": {
  "kernelspec": {
   "display_name": "Python 3",
   "language": "python",
   "name": "python3"
  },
  "language_info": {
   "codemirror_mode": {
    "name": "ipython",
    "version": 3
   },
   "file_extension": ".py",
   "mimetype": "text/x-python",
   "name": "python",
   "nbconvert_exporter": "python",
   "pygments_lexer": "ipython3",
   "version": "3.8.5"
  }
 },
 "nbformat": 4,
 "nbformat_minor": 4
}
